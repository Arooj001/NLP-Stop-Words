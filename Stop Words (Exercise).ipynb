{
 "cells": [
  {
   "cell_type": "markdown",
   "id": "30ce085d",
   "metadata": {},
   "source": [
    "***Importing Library***"
   ]
  },
  {
   "cell_type": "code",
   "execution_count": 1,
   "id": "cea7a0fb",
   "metadata": {},
   "outputs": [],
   "source": [
    "import spacy\n",
    "nlp = spacy.load(\"en_core_web_sm\")"
   ]
  },
  {
   "cell_type": "markdown",
   "id": "276cb04b",
   "metadata": {},
   "source": [
    "# Exercise 1:\n",
    "\n",
    "* ***From a Given Text, Count the number of stop words in it.***\n",
    "* ***Print the percentage of stop word tokens compared to all tokens in a given text.***\n"
   ]
  },
  {
   "cell_type": "code",
   "execution_count": 2,
   "id": "84cf5cee",
   "metadata": {},
   "outputs": [],
   "source": [
    "text = '''\n",
    "Thor: Love and Thunder is a 2022 American superhero film based on Marvel Comics featuring the character Thor, \n",
    "produced by Marvel Studios and distributed by Walt Disney Studios Motion Pictures. It is the sequel to Thor: \n",
    "Ragnarok (2017) and the 29th film in the Marvel Cinematic Universe (MCU).The film is directed by Taika Waititi, \n",
    "who co-wrote the script with Jennifer Kaytin Robinson, and stars Chris Hemsworth as Thor alongside Christian Bale, \n",
    "Tessa Thompson,Jaimie Alexander, Waititi, Russell Crowe, and Natalie Portman. In the film, Thor attempts to find \n",
    "inner peace, but must return to action and recruit Valkyrie (Thompson),Korg (Waititi), and Jane Foster (Portman)—who \n",
    "is now the Mighty Thor—to stop Gorr the God Butcher (Bale) from eliminating all gods.'''"
   ]
  },
  {
   "cell_type": "code",
   "execution_count": 10,
   "id": "658d8c24",
   "metadata": {},
   "outputs": [
    {
     "name": "stdout",
     "output_type": "stream",
     "text": [
      "Total stop words presented in the given text: 39\n",
      "Percentage stop words presented in the given text: 25.161290322580644 %\n"
     ]
    }
   ],
   "source": [
    "doc = nlp(text)\n",
    "\n",
    "stop_words_count = 0\n",
    "total_words_count = 0\n",
    "\n",
    "\n",
    "for token in doc:\n",
    "    if token.is_stop:\n",
    "        stop_words_count += 1\n",
    "    total_words_count += 1\n",
    "        \n",
    "print(f\"Total stop words presented in the given text: {stop_words_count}\")\n",
    "\n",
    "percentage_stop_words = (stop_words_count / total_words_count)*100\n",
    "print(f\"Percentage stop words presented in the given text: {percentage_stop_words} %\")"
   ]
  },
  {
   "cell_type": "markdown",
   "id": "060ff20c",
   "metadata": {},
   "source": [
    "# Exercise 2:\n",
    "\n",
    "* ***Spacy default implementation considers \"not\" as a stop word. But in some scenarios removing 'not' will completely change the meaning of the statement/text. For Example, consider these two statements:***\n",
    "\n",
    "* ***- this is a good movie       ----> Positive Statement***\n",
    "* ***- this is not a good movie   ----> Negative Statement***\n",
    "\n",
    "* ***So, after applying stopwords to those 2 texts, both will return \"good movie\" and does not respect the polarity/sentiments of text.***\n",
    "\n",
    "* ***Now, your task is to remove this stop word \"not\" in spaCy and help in distinguishing the texts.***"
   ]
  },
  {
   "cell_type": "code",
   "execution_count": 14,
   "id": "4ca9b842",
   "metadata": {},
   "outputs": [],
   "source": [
    "text = '''\n",
    "Thor: Love and Thunder is a 2022 American superhero film based on Marvel Comics featuring the character Thor, \n",
    "produced by Marvel Studios and distributed by Walt Disney Studios Motion Pictures. It is the sequel to Thor: \n",
    "Ragnarok (2017) and the 29th film in the Marvel Cinematic Universe (MCU).The film is directed by Taika Waititi, \n",
    "who co-wrote the script with Jennifer Kaytin Robinson, and stars Chris Hemsworth as Thor alongside Christian Bale, \n",
    "Tessa Thompson,Jaimie Alexander, Waititi, Russell Crowe, and Natalie Portman. In the film, Thor attempts to find \n",
    "inner peace, but must return to action and recruit Valkyrie (Thompson),Korg (Waititi), and Jane Foster (Portman)—who \n",
    "is now the Mighty Thor—to stop Gorr the God Butcher (Bale) from eliminating all gods.'''"
   ]
  },
  {
   "cell_type": "code",
   "execution_count": 18,
   "id": "b7b780f5",
   "metadata": {},
   "outputs": [
    {
     "name": "stdout",
     "output_type": "stream",
     "text": [
      "Text1: good movie\n",
      "Text2: not good movie\n"
     ]
    }
   ],
   "source": [
    "nlp = spacy.load(\"en_core_web_sm\")\n",
    "\n",
    "\n",
    "def preprocessing(text):\n",
    "    doc = nlp(text)\n",
    "    \n",
    "    \n",
    "    no_stop_words = [token.text for token in doc \n",
    "                     if not token.is_stop]\n",
    "    return \" \".join(no_stop_words)\n",
    "\n",
    "\n",
    "nlp.vocab['not'].is_stop = False\n",
    "\n",
    "positive_text = preprocessing('this is a good movie')\n",
    "negative_text = preprocessing('this is not a good movie')\n",
    "\n",
    "print(f\"Text1: {positive_text}\")\n",
    "print(f\"Text2: {negative_text}\")"
   ]
  },
  {
   "cell_type": "markdown",
   "id": "a37b991c",
   "metadata": {},
   "source": [
    "# Exercise 3:\n",
    "\n",
    "* ***From a given text, output the most frequently used token after removing all the stop word tokens and punctuations in it.***"
   ]
  },
  {
   "cell_type": "code",
   "execution_count": 19,
   "id": "e0ad72b7",
   "metadata": {},
   "outputs": [],
   "source": [
    "text = ''' The India men's national cricket team, also known as Team India or the Men in Blue, represents India in men's international cricket.\n",
    "It is governed by the Board of Control for Cricket in India (BCCI), and is a Full Member of the International Cricket Council (ICC) with Test,\n",
    "One Day International (ODI) and Twenty20 International (T20I) status. Cricket was introduced to India by British sailors in the 18th century, and the \n",
    "first cricket club was established in 1792. India's national cricket team played its first Test match on 25 June 1932 at Lord's, becoming the sixth team to be\n",
    "granted test cricket status.'''"
   ]
  },
  {
   "cell_type": "code",
   "execution_count": 26,
   "id": "e84c5840",
   "metadata": {},
   "outputs": [
    {
     "name": "stdout",
     "output_type": "stream",
     "text": [
      "Maximum frequent word: India\n"
     ]
    }
   ],
   "source": [
    "doc = nlp(text)\n",
    "\n",
    "remaining_tokens = []\n",
    "\n",
    "for token in doc:\n",
    "    if token.is_stop or token.is_punct:\n",
    "        continue\n",
    "    remaining_tokens.append(token.text)\n",
    "    \n",
    "    \n",
    "frequent_token = {}\n",
    "\n",
    "for token in remaining_tokens:\n",
    "    if token != '\\n' and token != ' ':\n",
    "        if token not in frequent_token:\n",
    "            frequent_token[token] = 1\n",
    "        else:\n",
    "            frequent_token[token] += 1\n",
    "            \n",
    "max_freq_word = max(frequent_token.keys(), key=(lambda key: frequent_token[key]))\n",
    "\n",
    "\n",
    "print(f\"Maximum frequent word: {max_freq_word}\")"
   ]
  }
 ],
 "metadata": {
  "kernelspec": {
   "display_name": "Python 3 (ipykernel)",
   "language": "python",
   "name": "python3"
  },
  "language_info": {
   "codemirror_mode": {
    "name": "ipython",
    "version": 3
   },
   "file_extension": ".py",
   "mimetype": "text/x-python",
   "name": "python",
   "nbconvert_exporter": "python",
   "pygments_lexer": "ipython3",
   "version": "3.11.5"
  }
 },
 "nbformat": 4,
 "nbformat_minor": 5
}
